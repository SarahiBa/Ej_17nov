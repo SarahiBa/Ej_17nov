{
 "cells": [
  {
   "cell_type": "markdown",
   "metadata": {},
   "source": [
    "## PAR O IMPAR\n",
    "Da la bienvenida a un usuario y luego pídele un número entre 1 y 1000.\n",
    "\n"
   ]
  },
  {
   "cell_type": "code",
   "execution_count": 1,
   "metadata": {},
   "outputs": [
    {
     "name": "stdout",
     "output_type": "stream",
     "text": [
      "El número que ingreso es par\n"
     ]
    }
   ],
   "source": [
    "num = int(input(\"Ingresa un número del 1 al 1000: \"))\n",
    "if num % 2 == 0:\n",
    "    print(\"El número que ingreso es par\")\n",
    "else:\n",
    "    print(\"El número que ingreso es impar\")"
   ]
  },
  {
   "cell_type": "markdown",
   "metadata": {},
   "source": [
    "## JUEGO DE LIBERTADES LOCAS\n",
    "Pida al usuario una entrada.\n"
   ]
  },
  {
   "cell_type": "code",
   "execution_count": 3,
   "metadata": {},
   "outputs": [
    {
     "name": "stdout",
     "output_type": "stream",
     "text": [
      "------------------------------------------\n",
      "Be kind to your SARA - footed AAAAAAAAA\n",
      "For a duck may be somebody's A ,\n",
      "Be kind to your AAAAAAAAA in A\n",
      "Where the weather is always A .\n",
      "\n",
      "You may think that is this the A ,\n",
      "Well it is.\n",
      "------------------------------------------\n"
     ]
    }
   ],
   "source": [
    "  # All the questions that the program asks the user\n",
    "noun = input(\"Choose a noun: \")\n",
    "p_noun = input(\"Choose a plural noun: \")\n",
    "noun2 = input(\"Choose a noun: \")\n",
    "place = input(\"Name a place: \")\n",
    "adjective = input(\"Choose an adjective (Describing word): \")\n",
    "noun3 = input(\"Choose a noun: \")\n",
    "\n",
    "    # Displays the story based on the users input\n",
    "print (\"------------------------------------------\")\n",
    "print (\"Be kind to your\",noun,\"- footed\", p_noun)\n",
    "print (\"For a duck may be somebody's\", noun2,\",\")\n",
    "print (\"Be kind to your\",p_noun,\"in\",place)\n",
    "print (\"Where the weather is always\",adjective,\".\")\n",
    "print ()\n",
    "print (\"You may think that is this the\",noun3,\",\")\n",
    "print (\"Well it is.\")\n",
    "print (\"------------------------------------------\")\n"
   ]
  },
  {
   "cell_type": "markdown",
   "metadata": {},
   "source": [
    "## EL RECUENTO DE PALABRAS\n",
    "Pregunte al usuario qué tiene en mente. Luego, después de que el usuario responda, cuente la cantidad de palabras en la oración e imprímala como salida."
   ]
  },
  {
   "cell_type": "code",
   "execution_count": 5,
   "metadata": {},
   "outputs": [
    {
     "name": "stdout",
     "output_type": "stream",
     "text": [
      "de 81\n",
      "y 53\n",
      "la 39\n",
      "a 38\n",
      "por 32\n",
      "que 30\n",
      "en 29\n",
      "los 27\n",
      "el 24\n",
      "para 24\n"
     ]
    }
   ],
   "source": [
    "import csv\n",
    "import string\n",
    "\n",
    "translator = str.maketrans('', '', string.punctuation)\n",
    "\n",
    "word_count = {}\n",
    "text = open('Declaracion.txt').read()\n",
    "\n",
    "words = text.split()\n",
    "for word in words:\n",
    "    word = word.translate(translator).lower()\n",
    "    count = word_count.get(word, 0)\n",
    "    count += 1\n",
    "    word_count[word] = count\n",
    "\n",
    "word_count_list = sorted(word_count, key=word_count.get, reverse=True)\n",
    "for word in word_count_list[:10]:\n",
    "    print(word, word_count[word])\n",
    "\n",
    "output_file = open('words.csv', 'w')\n",
    "writer = csv.writer(output_file)\n",
    "writer.writerow(['word', 'count'])\n",
    "for word in word_count_list:\n",
    "    writer.writerow([word, word_count[word]])"
   ]
  },
  {
   "cell_type": "markdown",
   "metadata": {},
   "source": [
    "## INFORMACIÓN BIOGRÁFICA\n",
    "Pídale a un usuario su información personal una pregunta a la vez. Luego verifique que la información que ingresaron sea válida. Finalmente, imprima un resumen de toda la información que ingresaron."
   ]
  },
  {
   "cell_type": "code",
   "execution_count": 6,
   "metadata": {},
   "outputs": [
    {
     "name": "stdout",
     "output_type": "stream",
     "text": [
      "DATOS PERSONALES\n",
      "Nombre:  Sarahi\n",
      "Fecha de cumpleaños:  11 de septiembre\n",
      "Dirección:  Francisco Villa\n",
      "Metas personales:  ninguna\n"
     ]
    }
   ],
   "source": [
    "# All the questions that the program asks the user\n",
    "nombre = input(\"Nombre: \")\n",
    "cumpleaños = input(\"Cumpleaños: \")\n",
    "direccion = input(\"Dirección: \")\n",
    "metas = input(\"Metas personales: \")\n",
    "\n",
    "\n",
    "print (\"DATOS PERSONALES\")\n",
    "print (\"Nombre: \",nombre)\n",
    "print (\"Fecha de cumpleaños: \", cumpleaños)\n",
    "print (\"Dirección: \",direccion)\n",
    "print (\"Metas personales: \", metas)\n"
   ]
  },
  {
   "cell_type": "markdown",
   "metadata": {},
   "source": [
    "## CUÁL ES MI ACRÓNIMO\n",
    "Pídale al usuario que ingrese el significado completo de una organización o concepto y le proporcionará el acrónimo al usuario. "
   ]
  },
  {
   "cell_type": "code",
   "execution_count": 7,
   "metadata": {},
   "outputs": [
    {
     "name": "stdout",
     "output_type": "stream",
     "text": [
      "ODLNU\n"
     ]
    }
   ],
   "source": [
    "def fxn(stng): \n",
    "    oupt = stng[0] \n",
    "      \n",
    "    for i in range(1, len(stng)): \n",
    "        if stng[i-1] == ' ':    \n",
    "            oupt += stng[i] \n",
    "              \n",
    "    oupt = oupt.upper() \n",
    "    return oupt \n",
    "\n",
    "Organizacion = input(\"Nombre de la organización: \")\n",
    "print(fxn(Organizacion)) "
   ]
  },
  {
   "cell_type": "markdown",
   "metadata": {},
   "source": [
    "## PIEDRA PAPEL O TIJERAS\n",
    "Este es un juego popular jugado entre dos personas. Cada jugador puede formar una de tres formas usando su mano:\n",
    "\n",
    "- Piedra(un puño cerrado)\n",
    "- Papel(una mano plana)\n",
    "- Tijera(un puño con el dedo índice y el dedo medio extendidos, formando una V)"
   ]
  },
  {
   "cell_type": "code",
   "execution_count": 10,
   "metadata": {},
   "outputs": [
    {
     "name": "stdout",
     "output_type": "stream",
     "text": [
      "\n",
      "tu elección fue Papel, La computadora eligio Tijera.\n",
      "\n",
      "Tijeras corta papel! Tu perdiste.\n"
     ]
    }
   ],
   "source": [
    "import random\n",
    "\n",
    "user_action = input(\"Ingrese (Piedra, Papel, Tijera ): \")\n",
    "possible_actions = [\"Piedra\", \"Papel\", \"Tijera\"]\n",
    "computer_action = random.choice(possible_actions)\n",
    "print(f\"\\ntu elección fue {user_action}, La computadora eligio {computer_action}.\\n\")\n",
    "\n",
    "if user_action == computer_action:\n",
    "    print(f\"Ambos jugadores seleccionaron {user_action}. Es un empate!\")\n",
    "elif user_action == \"Piedra\":\n",
    "    if computer_action == \"Tijera\":\n",
    "        print(\"Piedra destruye a Tijeras! Tu ganaste!\")\n",
    "    else:\n",
    "        print(\"Papel cubre a la Roca! Tu perdiste.\")\n",
    "elif user_action == \"Papel\":\n",
    "    if computer_action == \"Piedra\":\n",
    "        print(\"Papel cubre a la piedra! Tu ganaste!\")\n",
    "    else:\n",
    "        print(\"Tijeras corta papel! Tu perdiste.\")\n",
    "elif user_action == \"Tijera\":\n",
    "    if computer_action == \"paper\":\n",
    "        print(\"Tijera corta papel! Tu ganaste!\")\n",
    "    else:\n",
    "        print(\"Piedra destruye tijera! Tu perdiste.\")"
   ]
  },
  {
   "cell_type": "markdown",
   "metadata": {},
   "source": [
    "## ADIVINA EL NÚMERO\n",
    "Le pides a un usuario que adivine un número entre 1 y 50."
   ]
  },
  {
   "cell_type": "code",
   "execution_count": 13,
   "metadata": {},
   "outputs": [
    {
     "name": "stdout",
     "output_type": "stream",
     "text": [
      "No le atinaste\n",
      "No le atinaste\n",
      "6\n"
     ]
    }
   ],
   "source": [
    "import random\n",
    "numrandom = random.randint(1,50)\n",
    "\n",
    "choise = \"Y\"\n",
    "\n",
    "while choise == \"Y\" or choise == \"s\":\n",
    "    num = int(input(\"Intenta adivinar el número del 1 y el 50: \"))\n",
    "    \n",
    "    while num > 50 or num < 0:\n",
    "        num = int(input(\"Intenta adivinar el número del 1 al 50: \"))\n",
    "        print (\"Escoge un numero del 1 al 50\")\n",
    "\n",
    "    if num == numrandom:\n",
    "        print(\"Le atinaste\")\n",
    "        choise = \"n\"\n",
    "    else:\n",
    "        print(\"No le atinaste\")\n",
    "        choise = input(\"Quieres intentarlo de nuevo?: s o n\")\n",
    "\n",
    "print (numrandom)"
   ]
  },
  {
   "cell_type": "markdown",
   "metadata": {},
   "source": [
    "## ES UN PALINDROMO\n",
    "Pídele al usuario que te dé cinco palabras. Luego verifica si alguna de las cinco palabras es un palíndromo."
   ]
  },
  {
   "cell_type": "code",
   "execution_count": 18,
   "metadata": {},
   "outputs": [
    {
     "name": "stdout",
     "output_type": "stream",
     "text": [
      "\n",
      "Revisando texto\n",
      "la casa is blue\n",
      "El texto que ingresaste no es palindromo.\n"
     ]
    }
   ],
   "source": [
    "def convertInputString():\n",
    "    rawInput = input(\"\\nIngrese una palabra, una frase o sentencia \\nPara verificar que sea palindromo: \") \n",
    "    rawString = rawInput.lower() \n",
    "    rawList = list(rawString) \n",
    "    print(rawInput)\n",
    "    return rawList\n",
    "\n",
    "def stripAnalphabetics(dirtyList): \n",
    "    analphabeticList = [\" \", \"-\", \".\", \",\", \":\", \";\", \"!\", \"?\", \"'\", \"\\\"\"] \n",
    "    for character in analphabeticList: \n",
    "        if character in dirtyList: \n",
    "            dirtyList.remove(character) \n",
    "            return stripAnalphabetics(dirtyList)\n",
    "    return dirtyList \n",
    "\n",
    "def runPalindromeCheck(straightList):\n",
    "    reversedList = straightList[::-1] \n",
    "    if reversedList == straightList: \n",
    "        return \"El texto que ingresaste es palindromo!\" \n",
    "    else: \n",
    "        return \"El texto que ingresaste no es palindromo.\" \n",
    "\n",
    "def main(): \n",
    "    print(\"\\nRevisando texto\") \n",
    "    originalList = convertInputString()  \n",
    "    originalList = stripAnalphabetics(originalList) \n",
    "    palindromeCheck = runPalindromeCheck(originalList)\n",
    "    print(palindromeCheck)\n",
    "\n",
    "main() "
   ]
  },
  {
   "cell_type": "markdown",
   "metadata": {},
   "source": [
    "## Calcula la propina\n",
    "Su objetivo es averiguar exactamente cuánta propina debe dar después de recibir un servicio. En este escenario, solicite la factura total. Luego muestre la propina para 18%, 20% y 25%."
   ]
  },
  {
   "cell_type": "code",
   "execution_count": 21,
   "metadata": {},
   "outputs": [
    {
     "name": "stdout",
     "output_type": "stream",
     "text": [
      "Propina del 18%:  225.0\n",
      "Propina del 20%:  250.0\n",
      "Propina del 25%:  312.5\n"
     ]
    }
   ],
   "source": [
    "total = int(input(\"Total de la cuenta: \"))\n",
    "print(\"Propina del 18%: \",(total*0.18))\n",
    "print(\"Propina del 20%: \",(total*0.20))\n",
    "print(\"Propina del 25%: \",(total*0.25))\n",
    "\n"
   ]
  },
  {
   "cell_type": "markdown",
   "metadata": {},
   "source": [
    "## CORTADOR DE CORREO ELECTRÓNICO\n",
    "Recopile una dirección de correo electrónico del usuario y luego averigüe si el usuario tiene un nombre de dominio personalizado o un nombre de dominio popular.\n"
   ]
  },
  {
   "cell_type": "code",
   "execution_count": 22,
   "metadata": {},
   "outputs": [
    {
     "name": "stdout",
     "output_type": "stream",
     "text": [
      "Tu usuario es 'sbv' el nombre de dominio es  'gmail.com'\n"
     ]
    }
   ],
   "source": [
    "# Get user email address\n",
    "correo = input(\"Cual es tu dirección de correo?: \").strip()\n",
    "\n",
    "# Slice out the user name\n",
    "usuario = correo[:correo.index(\"@\")]\n",
    "\n",
    "# Slice the domain name\n",
    "dominio = correo[correo.index(\"@\")+1:]\n",
    "\n",
    "# Format message\n",
    "output = \"Tu usuario es '{}' el nombre de dominio es  '{}'\".format(usuario,dominio)\n",
    "\n",
    "# Display output message\n",
    "print(output)"
   ]
  },
  {
   "cell_type": "markdown",
   "metadata": {},
   "source": [
    "## GENERADOR DE CANCIONES\n",
    "Pida a un usuario que elija de una lista de 10 canciones. Cuando el usuario lo hace, imprime la letra de la canción que seleccionó."
   ]
  },
  {
   "cell_type": "code",
   "execution_count": 25,
   "metadata": {},
   "outputs": [
    {
     "name": "stdout",
     "output_type": "stream",
     "text": [
      "Las mañanitas\n",
      "Beso\n",
      "Antología\n",
      "\n",
      "*************LETRA*************\n",
      "Para amarte\n",
      "Necesito una razÃ³n\n",
      "Y es difÃ­cil creer\n",
      "Que no exista una mÃ¡s que este amor\n",
      "\n",
      "Sobra tanto\n",
      "Dentro de este corazÃ³n\n",
      "Y a pesar de que dicen que los aÃ±os son sabios\n",
      "TodavÃ­a se siente el dolor\n",
      "\n",
      "Porque todo el tiempo que pasÃ© junto a ti\n",
      "DejÃ³ tejido su hilo dentro de mÃ­\n",
      "\n",
      "Y aprendÃ­ a quitarle al tiempo los segundos\n",
      "TÃº me hiciste ver el cielo aÃºn mÃ¡s profundo\n",
      "Junto a ti, creo que aumentÃ© mÃ¡s de trÃ©s kilos\n",
      "Con tus tantos dulces besos repartidos\n",
      "\n",
      "Desarrollaste mi sentido del olfato\n",
      "Y fue por ti que aprendÃ­ a querer los gatos\n",
      "Despegaste del cemento mis zapatos\n",
      "Para escapar los dos volando un rato\n",
      "\n",
      "Pero olvidaste una final instrucciÃ³n\n",
      "Porque aÃºn no sÃ© cÃ³mo vivir sin tu amor\n",
      "\n",
      "Y descubrÃ­ lo que significa una rosa\n",
      "Y me enseÃ±aste a decir mentiras piadosas\n",
      "Para poder verte a horas no adecuadas\n",
      "Y a reemplazar palabras por miradas\n",
      "\n",
      "Y fue por ti que escribÃ­ mÃ¡s de cien canciones\n",
      "Y hasta perdonÃ© tus equivocaciones\n",
      "Y conocÃ­ mÃ¡s de mil formas de besar\n",
      "Y fue por ti que descubrÃ­ lo que es amar\n",
      "\n",
      "Lo que es amar\n",
      "Lo que es amar\n",
      "Lo que es amar\n",
      "Lo que es amar\n",
      "\n",
      "(Lo que es amar)\n",
      "(Lo que es amar)\n",
      "(Lo que es amar)\n"
     ]
    }
   ],
   "source": [
    "print(\"Las mañanitas\")\n",
    "print(\"Beso\")\n",
    "print(\"Antología\")\n",
    "print()\n",
    "\n",
    "cancion = int(input(\"Selecciona una cancion (1, 2 o 3)\"))\n",
    "\n",
    "if cancion == 1:\n",
    "    text = open('mañanitas.txt').read()\n",
    "elif cancion == 2:\n",
    "    text = open('beso.txt').read()\n",
    "else:\n",
    "    text = open('antologia.txt').read()\n",
    "print (\"*************LETRA*************\")\n",
    "print(text)\n"
   ]
  }
 ],
 "metadata": {
  "kernelspec": {
   "display_name": "Python 3.10.8 64-bit",
   "language": "python",
   "name": "python3"
  },
  "language_info": {
   "codemirror_mode": {
    "name": "ipython",
    "version": 3
   },
   "file_extension": ".py",
   "mimetype": "text/x-python",
   "name": "python",
   "nbconvert_exporter": "python",
   "pygments_lexer": "ipython3",
   "version": "3.10.8"
  },
  "orig_nbformat": 4,
  "vscode": {
   "interpreter": {
    "hash": "54b9d49997c236a2ef32f65a0008219771d67ee2c69b683c767258aaf883e394"
   }
  }
 },
 "nbformat": 4,
 "nbformat_minor": 2
}
